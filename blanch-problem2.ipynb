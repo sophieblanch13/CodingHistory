{
 "cells": [
  {
   "cell_type": "markdown",
   "metadata": {},
   "source": [
    "# Problem 2: Calculation of the Average Energy in the Classical Limit"
   ]
  },
  {
   "cell_type": "markdown",
   "metadata": {},
   "source": [
    "## Task 1: Average energy and heat capacity"
   ]
  },
  {
   "cell_type": "markdown",
   "metadata": {},
   "source": [
    "#### Part a: Analysis of code structure"
   ]
  },
  {
   "cell_type": "markdown",
   "metadata": {},
   "source": [
    "**Initialisation:**\n",
    "\n",
    "N = 20000 # number of samples\n",
    "\n",
    "deltax = 0.15 # max displacement nm\n",
    "\n",
    "nm = 10^(-9) # nanometres\n",
    "\n",
    "kf = 1.381*10^(-23) # Boltzmann const J m-2 K-1\n",
    "\n",
    "T = 300.0 # temperature K\n",
    "\n",
    "kT = k*T # initial thermal energy\n",
    "\n",
    "kf = 10.0 # force const N m-1\n",
    "\n",
    "V(x)-> kf*x^2*nm^2/2 # def function pot'l energy kg m2 s–2\n",
    "\n",
    "\n",
    "Etot = 0.0 # initial energy <E>\n",
    "    \n",
    "E2tot = 0.0 # initial <E2>\n",
    "    \n",
    "x1 = 0.0 # first guess of x in nm\n",
    "    \n",
    "E1 = V(x1) # first guess of energy\n",
    "\n",
    "    \n",
    "**Monte Carlo Loop:**\n",
    "    \n",
    "    \n",
    "    \n",
    "for i from 1 to N do # start loop step (2)\n",
    "    \n",
    "    x2 = x1 + rand()*deltax # new x position\n",
    "    \n",
    "    E2 = V(x2) # new PE\n",
    "    \n",
    "    DeltaE = E2 - E1 # energy difference\n",
    "    \n",
    "    \n",
    "**Data Caluclation:**\n",
    "    \n",
    "    \n",
    "if DeltaE <= 0.0 then\n",
    "               \n",
    "    x1 = x2 # save new configuration\n",
    "               \n",
    "    E1 = E2 # save new energy\n",
    "               \n",
    "else if DeltaE > 0.0 then\n",
    "    \n",
    "    if exp(-DeltaE/kT) > rand() then\n",
    "    \n",
    "    x1 = x2 # save new configuration\n",
    "    \n",
    "    E1 = E2 # save new energy\n",
    "    \n",
    "    \n",
    "**Analysis:** \n",
    "   \n",
    "    \n",
    "end if\n",
    "    \n",
    "    Etot = E1 # always add to total <E>\n",
    "    \n",
    "    E2tot = E2tot + E1^2 # add to total <E2>\n",
    "    \n",
    "end do # end loop step (3)\n",
    "    \n",
    "    \n",
    "#average step\n",
    "    \n",
    "    \n",
    "Eav = (Etot) # <E>\n",
    "    \n",
    "E2av = (E2tot/N) # <E2>\n",
    "    \n",
    "CV = (E2av-Eav^2)/(k*T^2)\n",
    "    \n"
   ]
  },
  {
   "cell_type": "markdown",
   "metadata": {},
   "source": [
    "#### Part b: Mistakes in the code"
   ]
  },
  {
   "cell_type": "markdown",
   "metadata": {},
   "source": [
    "1. Boltzmann constant labelled as kf rather than k\n",
    "2. Random number generated needs to be between -1 and 1 for harmonic oscillator\n",
    "3. Total energy calculation at the end of the loop should be Etot = Etot + E1\n",
    "4. Final energy calculation also needs to be divided by N to make it the average"
   ]
  },
  {
   "cell_type": "markdown",
   "metadata": {},
   "source": [
    "#### Part c: Monte Carlo calculation of average energy, average energy squared and heat capacity"
   ]
  },
  {
   "cell_type": "code",
   "execution_count": 76,
   "metadata": {},
   "outputs": [],
   "source": [
    "# Necessary imports\n",
    "import numpy as np\n",
    "import matplotlib.pyplot as plt\n",
    "import scipy.integrate as integrate "
   ]
  },
  {
   "cell_type": "code",
   "execution_count": 81,
   "metadata": {},
   "outputs": [
    {
     "name": "stdout",
     "output_type": "stream",
     "text": [
      "Average energy: 2.071140676967763e-21 J\n",
      "Average square energy: 1.2564998396380298e-41 J²\n",
      "Heat Capacity: 6.659805721612457e-24 J/K\n"
     ]
    }
   ],
   "source": [
    "# Edited Monte Carlo Metropolis Algorithm code\n",
    "\n",
    "N = 20000 # number of samples\n",
    "deltax = 0.15 # max displacement nm\n",
    "nm = 1e-9 # nanometres\n",
    "k = 1.38065e-23 # Boltzmann const J m-2 K-1\n",
    "T = 300.0 # temperature K\n",
    "kT = k * T # initial thermal energy\n",
    "kf = 10.0 # force const N m-1\n",
    "\n",
    "def V(x):\n",
    "    return ((kf * x ** 2) * nm ** 2) / 2\n",
    "\n",
    "Etot = 0.0 # initial energy <E>\n",
    "E2tot = 0.0 # initial <E2>\n",
    "xtot = 0.0\n",
    "x2tot = 0.0\n",
    "x1 = 0.0 # first guess of x in nm\n",
    "E1 = V(x1) # first guess of energy\n",
    "\n",
    "for i in range(N): # start loop step (2)\n",
    "    x2 = x1 + np.random.uniform(-1, 1) * deltax # new x position\n",
    "    E2 = V(x2) # new PE\n",
    "    DeltaE = E2 - E1 # energy difference\n",
    "    \n",
    "# next line is Metropolis sampling\n",
    "\n",
    "    if DeltaE <= 0.0:\n",
    "        x1 = x2 # save new configuration\n",
    "        E1 = E2 # save new energy\n",
    "        \n",
    "    elif DeltaE > 0.0:\n",
    "        if np.exp(-DeltaE/kT) > np.random.uniform():\n",
    "            x1 = x2 # save new configuration\n",
    "            E1 = E2 # save new energy\n",
    "           \n",
    "    Etot = Etot + E1 # always add to total <E>\n",
    "    E2tot = E2tot + E1 ** 2 # add to total <E2>\n",
    "    xtot = xtot + x1\n",
    "    x2tot = x2tot + x1 ** 2\n",
    "\n",
    "Eav = Etot/N # <E>\n",
    "E2av = E2tot/N # <E2>\n",
    "CV = (E2av - Eav ** 2) / (k * T ** 2)\n",
    "\n",
    "print(f\"Average energy: {Eav} J\")\n",
    "print(f\"Average square energy: {E2av} J²\")\n",
    "print(f\"Heat Capacity: {CV} J/K\") # so small because the system is a single harmonic oscillator\n"
   ]
  },
  {
   "cell_type": "markdown",
   "metadata": {},
   "source": [
    "#### Part d: Verifying the theoretical value of the average potential energy"
   ]
  },
  {
   "cell_type": "code",
   "execution_count": 78,
   "metadata": {},
   "outputs": [
    {
     "name": "stdout",
     "output_type": "stream",
     "text": [
      "The calculated value of the average potential energy is 2.091887579031346e-21 J which has good agreement with the theoretical value of 2.07e-21 J.\n"
     ]
    }
   ],
   "source": [
    "def numerator(x):\n",
    "    return V(x) * np.exp((-1 * V(x)) / (k * T))\n",
    "\n",
    "def denominator(x):\n",
    "    return np.exp((-1 * V(x))/(k * T))\n",
    "\n",
    "num_integral = integrate.quad(numerator, -np.inf, np.inf)[0]\n",
    "denom_integral = integrate.quad(denominator, -np.inf, np.inf)[0]\n",
    "\n",
    "energy = num_integral/denom_integral\n",
    "print(f\"The calculated value of the average potential energy is {energy} J which has good agreement with the theoretical value of 2.07e-21 J.\")"
   ]
  },
  {
   "cell_type": "markdown",
   "metadata": {},
   "source": [
    "## Task 2: Average displacement calculations"
   ]
  },
  {
   "cell_type": "code",
   "execution_count": 79,
   "metadata": {},
   "outputs": [
    {
     "name": "stdout",
     "output_type": "stream",
     "text": [
      "<x>: 0.0003678773235656771 nm\n",
      "<x²>: 0.00042003373354844724 nm²\n"
     ]
    }
   ],
   "source": [
    "# Calculation of <x> and <x²> \n",
    "x = xtot / N\n",
    "x2 = x2tot / N\n",
    "\n",
    "print(f\"<x>: {x} nm\")\n",
    "print(f\"<x²>: {x2} nm²\")"
   ]
  },
  {
   "cell_type": "markdown",
   "metadata": {},
   "source": [
    "#### Expected results for average dispacement\n",
    "\n",
    "The average displacement is expected to be very near to zero in a harmonic oscillator as it is moving in both positive and negative directions, averaging to around zero.\n",
    "\n",
    "#### Average square displacement\n",
    "\n",
    "There is very good agreement between the calculated x² and the theoretical x² of 0.00041 nm², showing the accuracy of this numerical method.\n"
   ]
  },
  {
   "cell_type": "markdown",
   "metadata": {},
   "source": [
    "## Task 3: Understanding"
   ]
  },
  {
   "cell_type": "markdown",
   "metadata": {},
   "source": [
    "The Metropolis Monte Carlo method is an example of importance sampling, meaning that more probable outcomes contribute to a greater degree. In this example, this is controlled by the constraints placed on the difference in energy, where if a newly calculated value is smaller than the original value, this is accepted as 'important'. If the new value is greater, it is weighted according to the boltzmann distribution, with decreasing importance."
   ]
  },
  {
   "cell_type": "markdown",
   "metadata": {},
   "source": [
    "## Task 4: Error calculations"
   ]
  },
  {
   "cell_type": "code",
   "execution_count": 80,
   "metadata": {},
   "outputs": [
    {
     "data": {
      "image/png": "[encoded data removed]",
      "text/plain": [
       "<Figure size 576x432 with 1 Axes>"
      ]
     },
     "metadata": {
      "needs_background": "light"
     },
     "output_type": "display_data"
    }
   ],
   "source": [
    "# Calculating the fractional error for the average energy for different values of N\n",
    "\n",
    "def fractional_energy_error(N):\n",
    "\n",
    "    Etot = 0.0\n",
    "    E2tot = 0.0\n",
    "    x1 = 0.0\n",
    "    E1 = V(x1)\n",
    "\n",
    "    for i in range(N):\n",
    "        x2 = x1 + np.random.uniform(-1, 1) * deltax\n",
    "        E2 = V(x2)\n",
    "        DeltaE = E2 - E1\n",
    "\n",
    "    # Metropolis sampling\n",
    "\n",
    "        if DeltaE <= 0.0:\n",
    "            x1 = x2\n",
    "            E1 = E2 \n",
    "\n",
    "        elif DeltaE > 0.0:\n",
    "            if np.exp(-DeltaE/kT) > np.random.uniform():\n",
    "                x1 = x2\n",
    "                E1 = E2 \n",
    "\n",
    "        Etot = Etot + E1 \n",
    "        E2tot = E2tot + E1 ** 2 \n",
    "\n",
    "    Eav = Etot/N if N > 0 else np.nan # To avoid dividing by 0\n",
    "    E2av = E2tot/N if N > 0 else np.nan # To avoid math error\n",
    "    CV = (E2av - Eav ** 2) / (k * T ** 2) if Eav != np.nan else np.nan # To avoid diving by 0\n",
    "    \n",
    "    if CV < 0:\n",
    "        return np.nan # To avoid potential negative heat capacities causing issues in the square root \n",
    "    \n",
    "    return (np.sqrt(CV * k * T ** 2)) / Eav if Eav != 0 else np.nan \n",
    "\n",
    "# Defining axis\n",
    "N_values = np.linspace(100, 50000, num=100, dtype=int) \n",
    "errors = [fractional_energy_error(N) for N in N_values]\n",
    "\n",
    "# Producing a line plot of periodic N values to show the fractional error variance\n",
    "plt.figure(figsize=(8, 6))\n",
    "plt.plot(N_values, errors, marker='o', linestyle='-', color='r')\n",
    "plt.xlabel(\"N\")\n",
    "plt.ylabel(\"Fractional Error for <E>\")\n",
    "plt.title(\"Fractional Error for Average Energy vs. N\")\n",
    "plt.grid(True, which=\"both\", linestyle=\"--\", linewidth=0.3)\n",
    "plt.show()\n"
   ]
  },
  {
   "cell_type": "markdown",
   "metadata": {},
   "source": [
    "## Task 6: Bonus Point"
   ]
  },
  {
   "cell_type": "markdown",
   "metadata": {},
   "source": [
    "I deserve a bonus point because my graph is well presented, with good titles for the axis, and clearly shows that the higher the number of samples, the smaller the variation in fractional error of the avergae energy, meaning the more samples taken, the more reliable and consistent the result will be, with an error approaching a constant fractional value. Also, I have effectively mitigated the RunTime Warning by including some additional checks that ensure only reasonable and practically sensible results are obtained."
   ]
  },
  {
   "cell_type": "markdown",
   "metadata": {},
   "source": [
    "## Self Assessment"
   ]
  },
  {
   "cell_type": "markdown",
   "metadata": {},
   "source": [
    "### Task 1\n",
    "\n",
    "1a - 0.4 marks\n",
    "\n",
    "I think my division makes sense, but could understand arguements for it being split in slightly different ways\n",
    "\n",
    "1b - 0.5 marks\n",
    "\n",
    "I think I have correctly identified the 4 mistakes\n",
    "\n",
    "1c - 2 marks\n",
    "\n",
    "My Monte Carlo Algorithm works and produces accurate reuslts, indicated by the average energy calculation which is within reasonable range of the theoretical value given\n",
    "\n",
    "1d - 1 mark\n",
    "\n",
    "My integration calculation has very good agreement with the theoretical value\n",
    "\n",
    "### Task 2\n",
    "\n",
    "1a - 0.45 marks\n",
    "\n",
    "I think my answer and explanation are generally correct, but my explanation could be slightly more detailed and in depth\n",
    "\n",
    "1b - 0.5 marks\n",
    "\n",
    "My answer is nearly an exact match for the theoretical value\n",
    "\n",
    "### Task 3\n",
    "\n",
    "0.8 marks\n",
    "\n",
    "I think my answer covers the main theory behind the metropolis monte carlo method, but could be more direct and comprehensive\n",
    "\n",
    "### Task 4\n",
    "\n",
    "1 mark\n",
    "\n",
    "I defined a function for the error that reduces the potential math errors created by ranging over small values of N, as well as producing a nice, well presneted plot\n",
    "\n",
    "### Task 5\n",
    "\n",
    "2 marks\n",
    "\n",
    "I think my notebook is well presented and considered to make it easy to read through, making sure I was always explaining what the code is doing\n",
    "\n",
    "### Task 6\n",
    "\n",
    "1 mark\n",
    "\n",
    "I deserve a bonus point for the math error checks in my error function\n",
    "\n"
   ]
  },
  {
   "cell_type": "markdown",
   "metadata": {},
   "source": [
    "## Declaration of Academic Integrity\n",
    "\n",
    "This is all my own work and I have given it marks based on what I think is fair."
   ]
  }
 ],
 "metadata": {
  "kernelspec": {
   "display_name": "Python 3",
   "language": "python",
   "name": "python3"
  },
  "language_info": {
   "codemirror_mode": {
    "name": "ipython",
    "version": 3
   },
   "file_extension": ".py",
   "mimetype": "text/x-python",
   "name": "python",
   "nbconvert_exporter": "python",
   "pygments_lexer": "ipython3",
   "version": "3.7.6"
  }
 },
 "nbformat": 4,
 "nbformat_minor": 4
}
